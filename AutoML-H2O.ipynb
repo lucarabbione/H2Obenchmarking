{
 "cells": [
  {
   "cell_type": "markdown",
   "metadata": {},
   "source": [
    "# TRYING OUT H2O \n",
    "\n",
    "The objective here is to set up in a couple of lines of code the popular auto ML framework, H2O.\n",
    "\n",
    "After importing the package some details will be displayed:"
   ]
  },
  {
   "cell_type": "code",
   "execution_count": 2,
   "metadata": {},
   "outputs": [
    {
     "name": "stdout",
     "output_type": "stream",
     "text": [
      "Checking whether there is an H2O instance running at http://localhost:54321 ..... not found.\n",
      "Attempting to start a local H2O server...\n",
      "; Java HotSpot(TM) Client VM (build 25.221-b11, mixed mode)\n"
     ]
    },
    {
     "name": "stderr",
     "output_type": "stream",
     "text": [
      "C:\\Users\\luca.rabbione\\AppData\\Local\\Continuum\\anaconda3\\lib\\site-packages\\h2o\\backend\\server.py:369: UserWarning:   You have a 32-bit version of Java. H2O works best with 64-bit Java.\n",
      "  Please download the latest 64-bit Java SE JDK from Oracle.\n",
      "\n",
      "  warn(\"  You have a 32-bit version of Java. H2O works best with 64-bit Java.\\n\"\n"
     ]
    },
    {
     "name": "stdout",
     "output_type": "stream",
     "text": [
      "  Starting server from C:\\Users\\luca.rabbione\\AppData\\Local\\Continuum\\anaconda3\\lib\\site-packages\\h2o\\backend\\bin\\h2o.jar\n",
      "  Ice root: C:\\Users\\LUCA~1.RAB\\AppData\\Local\\Temp\\tmpfmqbafnp\n",
      "  JVM stdout: C:\\Users\\LUCA~1.RAB\\AppData\\Local\\Temp\\tmpfmqbafnp\\h2o_luca_rabbione_started_from_python.out\n",
      "  JVM stderr: C:\\Users\\LUCA~1.RAB\\AppData\\Local\\Temp\\tmpfmqbafnp\\h2o_luca_rabbione_started_from_python.err\n",
      "  Server is running at http://127.0.0.1:54321\n",
      "Connecting to H2O server at http://127.0.0.1:54321 ... successful.\n"
     ]
    },
    {
     "data": {
      "text/html": [
       "<div style=\"overflow:auto\"><table style=\"width:50%\"><tr><td>H2O cluster uptime:</td>\n",
       "<td>07 secs</td></tr>\n",
       "<tr><td>H2O cluster timezone:</td>\n",
       "<td>America/Argentina/Buenos_Aires</td></tr>\n",
       "<tr><td>H2O data parsing timezone:</td>\n",
       "<td>UTC</td></tr>\n",
       "<tr><td>H2O cluster version:</td>\n",
       "<td>3.26.0.6</td></tr>\n",
       "<tr><td>H2O cluster version age:</td>\n",
       "<td>15 days </td></tr>\n",
       "<tr><td>H2O cluster name:</td>\n",
       "<td>H2O_from_python_luca_rabbione_qdhxza</td></tr>\n",
       "<tr><td>H2O cluster total nodes:</td>\n",
       "<td>1</td></tr>\n",
       "<tr><td>H2O cluster free memory:</td>\n",
       "<td>247.5 Mb</td></tr>\n",
       "<tr><td>H2O cluster total cores:</td>\n",
       "<td>4</td></tr>\n",
       "<tr><td>H2O cluster allowed cores:</td>\n",
       "<td>4</td></tr>\n",
       "<tr><td>H2O cluster status:</td>\n",
       "<td>accepting new members, healthy</td></tr>\n",
       "<tr><td>H2O connection url:</td>\n",
       "<td>http://127.0.0.1:54321</td></tr>\n",
       "<tr><td>H2O connection proxy:</td>\n",
       "<td>None</td></tr>\n",
       "<tr><td>H2O internal security:</td>\n",
       "<td>False</td></tr>\n",
       "<tr><td>H2O API Extensions:</td>\n",
       "<td>Amazon S3, Algos, AutoML, Core V3, TargetEncoder, Core V4</td></tr>\n",
       "<tr><td>Python version:</td>\n",
       "<td>3.6.4 final</td></tr></table></div>"
      ],
      "text/plain": [
       "--------------------------  ---------------------------------------------------------\n",
       "H2O cluster uptime:         07 secs\n",
       "H2O cluster timezone:       America/Argentina/Buenos_Aires\n",
       "H2O data parsing timezone:  UTC\n",
       "H2O cluster version:        3.26.0.6\n",
       "H2O cluster version age:    15 days\n",
       "H2O cluster name:           H2O_from_python_luca_rabbione_qdhxza\n",
       "H2O cluster total nodes:    1\n",
       "H2O cluster free memory:    247.5 Mb\n",
       "H2O cluster total cores:    4\n",
       "H2O cluster allowed cores:  4\n",
       "H2O cluster status:         accepting new members, healthy\n",
       "H2O connection url:         http://127.0.0.1:54321\n",
       "H2O connection proxy:\n",
       "H2O internal security:      False\n",
       "H2O API Extensions:         Amazon S3, Algos, AutoML, Core V3, TargetEncoder, Core V4\n",
       "Python version:             3.6.4 final\n",
       "--------------------------  ---------------------------------------------------------"
      ]
     },
     "metadata": {},
     "output_type": "display_data"
    }
   ],
   "source": [
    "import h2o\n",
    "from h2o.automl import H2OAutoML\n",
    "h2o.init()"
   ]
  },
  {
   "cell_type": "markdown",
   "metadata": {},
   "source": [
    "Predicting and benchmarking several models is as easy as indicating a dependant variable and a training frame. H2O assumes that all the data cleansing needed has been already performed, which is the case here. Semi automated feature engineering is still a liability for most of auto ML framewoks. \n",
    "\n",
    "The dataset used as an example is a masked version of a webpage activity tracker. "
   ]
  },
  {
   "cell_type": "code",
   "execution_count": 7,
   "metadata": {},
   "outputs": [
    {
     "name": "stdout",
     "output_type": "stream",
     "text": [
      "Parse progress: |█████████████████████████████████████████████████████████| 100%\n",
      "AutoML progress: |████████████████████████████████████████████████████████| 100%\n"
     ]
    }
   ],
   "source": [
    "filename = \"webpage-train-cat.csv\"\n",
    "train = h2o.import_file(filename)\n",
    "\n",
    "x = train.columns\n",
    "y = 'Target'\n",
    "x.remove(y)\n",
    "\n",
    "aml = H2OAutoML(max_runtime_secs=120)\n",
    "aml.train(x=x, y=y, training_frame=train)\n",
    "\n",
    "lb=aml.leaderboard"
   ]
  },
  {
   "cell_type": "code",
   "execution_count": 8,
   "metadata": {},
   "outputs": [
    {
     "data": {
      "text/html": [
       "<table>\n",
       "<thead>\n",
       "<tr><th>model_id                                           </th><th style=\"text-align: right;\">     auc</th><th style=\"text-align: right;\">  logloss</th><th style=\"text-align: right;\">  mean_per_class_error</th><th style=\"text-align: right;\">    rmse</th><th style=\"text-align: right;\">      mse</th></tr>\n",
       "</thead>\n",
       "<tbody>\n",
       "<tr><td>GBM_1_AutoML_20191017_121353                       </td><td style=\"text-align: right;\">0.98628 </td><td style=\"text-align: right;\"> 0.117461</td><td style=\"text-align: right;\">             0.0895988</td><td style=\"text-align: right;\">0.18994 </td><td style=\"text-align: right;\">0.0360772</td></tr>\n",
       "<tr><td>StackedEnsemble_BestOfFamily_AutoML_20191017_121353</td><td style=\"text-align: right;\">0.985027</td><td style=\"text-align: right;\"> 0.131908</td><td style=\"text-align: right;\">             0.0860359</td><td style=\"text-align: right;\">0.194488</td><td style=\"text-align: right;\">0.0378255</td></tr>\n",
       "<tr><td>StackedEnsemble_AllModels_AutoML_20191017_121353   </td><td style=\"text-align: right;\">0.985027</td><td style=\"text-align: right;\"> 0.131908</td><td style=\"text-align: right;\">             0.0860359</td><td style=\"text-align: right;\">0.194488</td><td style=\"text-align: right;\">0.0378255</td></tr>\n",
       "<tr><td>DRF_1_AutoML_20191017_121353                       </td><td style=\"text-align: right;\">0.983322</td><td style=\"text-align: right;\"> 0.135982</td><td style=\"text-align: right;\">             0.0931339</td><td style=\"text-align: right;\">0.196619</td><td style=\"text-align: right;\">0.038659 </td></tr>\n",
       "<tr><td>GLM_grid_1_AutoML_20191017_121353_model_1          </td><td style=\"text-align: right;\">0.961617</td><td style=\"text-align: right;\"> 0.178234</td><td style=\"text-align: right;\">             0.134651 </td><td style=\"text-align: right;\">0.225457</td><td style=\"text-align: right;\">0.0508308</td></tr>\n",
       "</tbody>\n",
       "</table>"
      ]
     },
     "metadata": {},
     "output_type": "display_data"
    },
    {
     "name": "stdout",
     "output_type": "stream",
     "text": [
      "\n"
     ]
    }
   ],
   "source": [
    "print(lb)"
   ]
  },
  {
   "cell_type": "markdown",
   "metadata": {},
   "source": [
    "Based on the results displayed above, one can compare baseline models against the result of a quick auto ML check. That can help as a validation for the current model or as an indicator that some changes are needed."
   ]
  }
 ],
 "metadata": {
  "kernelspec": {
   "display_name": "Python 3",
   "language": "python",
   "name": "python3"
  },
  "language_info": {
   "codemirror_mode": {
    "name": "ipython",
    "version": 3
   },
   "file_extension": ".py",
   "mimetype": "text/x-python",
   "name": "python",
   "nbconvert_exporter": "python",
   "pygments_lexer": "ipython3",
   "version": "3.7.6"
  }
 },
 "nbformat": 4,
 "nbformat_minor": 2
}
